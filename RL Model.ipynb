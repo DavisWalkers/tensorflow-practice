{
 "cells": [
  {
   "cell_type": "code",
   "execution_count": 1,
   "metadata": {},
   "outputs": [],
   "source": [
    "!pip install -q gym"
   ]
  },
  {
   "cell_type": "code",
   "execution_count": 3,
   "metadata": {},
   "outputs": [
    {
     "name": "stdout",
     "output_type": "stream",
     "text": [
      "[sudo] password for void: \n",
      "^C\n"
     ]
    }
   ],
   "source": [
    "# Install additional packages for visualization\n",
    "!sudo apt-get install -y xvfb python-opengl > /dev/null 2>&1\n",
    "!pip install -q pyvirtualdisplay > /dev/null 2>&1\n",
    "!pip install -q git+https://github.com/tensorflow/docs > /dev/null 2>&1"
   ]
  },
  {
   "cell_type": "code",
   "execution_count": 4,
   "metadata": {},
   "outputs": [],
   "source": [
    "import collections\n",
    "import gym\n",
    "import numpy as np\n",
    "import tensorflow as tf\n",
    "import tqdm\n",
    "\n",
    "from matplotlib import pyplot as plt\n",
    "from tensorflow.keras import layers\n",
    "from typing import Any, List, Sequence, Tuple\n",
    "\n",
    "# Create the environment\n",
    "env = gym.make(\"CartPole-v0\")\n",
    "\n",
    "# Set seed for experiment reproducibility\n",
    "seed = 42\n",
    "env.seed(seed)\n",
    "tf.random.set_seed(seed)\n",
    "np.random.seed(seed)\n",
    "\n",
    "# Small epsilon value for stabilizing division operations\n",
    "eps = np.finfo(np.float32).eps.item()"
   ]
  },
  {
   "cell_type": "markdown",
   "metadata": {},
   "source": [
    "# Model"
   ]
  },
  {
   "cell_type": "code",
   "execution_count": 5,
   "metadata": {},
   "outputs": [],
   "source": [
    "class ActorCritic(tf.keras.Model):\n",
    "  \"\"\"Combined actor-critic network.\"\"\"\n",
    "\n",
    "  def __init__(\n",
    "      self, \n",
    "      num_actions: int, \n",
    "      num_hidden_units: int):\n",
    "    \"\"\"Initialize.\"\"\"\n",
    "    super().__init__()\n",
    "\n",
    "    self.common = layers.Dense(num_hidden_units, activation=\"relu\")\n",
    "    self.actor = layers.Dense(num_actions)\n",
    "    self.critic = layers.Dense(1)\n",
    "\n",
    "  def call(self, inputs: tf.Tensor) -> Tuple[tf.Tensor, tf.Tensor]:\n",
    "    x = self.common(inputs)\n",
    "    return self.actor(x), self.critic(x)"
   ]
  },
  {
   "cell_type": "code",
   "execution_count": 6,
   "metadata": {},
   "outputs": [],
   "source": [
    "num_actions = env.action_space.n # 2\n",
    "num_hidden_units = 128\n",
    "\n",
    "model = ActorCritic(num_actions, num_hidden_units)"
   ]
  },
  {
   "cell_type": "markdown",
   "metadata": {},
   "source": [
    "# Training"
   ]
  },
  {
   "cell_type": "markdown",
   "metadata": {},
   "source": [
    "## Collecting training data"
   ]
  },
  {
   "cell_type": "code",
   "execution_count": 7,
   "metadata": {},
   "outputs": [],
   "source": [
    "# Wrap OpenAI Gym's `env.step` call as an operation in a TensorFlow function.\n",
    "# This would allow it to be included in a callable TensorFlow graph.\n",
    "\n",
    "def env_step(action: np.ndarray) -> Tuple[np.ndarray, np.ndarray, np.ndarray]:\n",
    "  \"\"\"Returns state, reward and done flag given an action.\"\"\"\n",
    "\n",
    "  state, reward, done, _ = env.step(action)\n",
    "  return (state.astype(np.float32), \n",
    "          np.array(reward, np.int32), \n",
    "          np.array(done, np.int32))\n",
    "\n",
    "\n",
    "def tf_env_step(action: tf.Tensor) -> List[tf.Tensor]:\n",
    "  return tf.numpy_function(env_step, [action], \n",
    "                           [tf.float32, tf.int32, tf.int32])"
   ]
  },
  {
   "cell_type": "code",
   "execution_count": 8,
   "metadata": {},
   "outputs": [],
   "source": [
    "def run_episode(\n",
    "    initial_state: tf.Tensor,  \n",
    "    model: tf.keras.Model, \n",
    "    max_steps: int) -> List[tf.Tensor]:\n",
    "  \"\"\"Runs a single episode to collect training data.\"\"\"\n",
    "\n",
    "  action_probs = tf.TensorArray(dtype=tf.float32, size=0, dynamic_size=True)\n",
    "  values = tf.TensorArray(dtype=tf.float32, size=0, dynamic_size=True)\n",
    "  rewards = tf.TensorArray(dtype=tf.int32, size=0, dynamic_size=True)\n",
    "\n",
    "  initial_state_shape = initial_state.shape\n",
    "  state = initial_state\n",
    "\n",
    "  for t in tf.range(max_steps):\n",
    "    # Convert state into a batched tensor (batch size = 1)\n",
    "    state = tf.expand_dims(state, 0)\n",
    "  \n",
    "    # Run the model and to get action probabilities and critic value\n",
    "    action_logits_t, value = model(state)\n",
    "  \n",
    "    # Sample next action from the action probability distribution\n",
    "    action = tf.random.categorical(action_logits_t, 1)[0, 0]\n",
    "    action_probs_t = tf.nn.softmax(action_logits_t)\n",
    "\n",
    "    # Store critic values\n",
    "    values = values.write(t, tf.squeeze(value))\n",
    "\n",
    "    # Store log probability of the action chosen\n",
    "    action_probs = action_probs.write(t, action_probs_t[0, action])\n",
    "  \n",
    "    # Apply action to the environment to get next state and reward\n",
    "    state, reward, done = tf_env_step(action)\n",
    "    state.set_shape(initial_state_shape)\n",
    "  \n",
    "    # Store reward\n",
    "    rewards = rewards.write(t, reward)\n",
    "\n",
    "    if tf.cast(done, tf.bool):\n",
    "      break\n",
    "\n",
    "  action_probs = action_probs.stack()\n",
    "  values = values.stack()\n",
    "  rewards = rewards.stack()\n",
    "  \n",
    "  return action_probs, values, rewards"
   ]
  },
  {
   "cell_type": "markdown",
   "metadata": {},
   "source": [
    "## Computing expected returns"
   ]
  },
  {
   "cell_type": "code",
   "execution_count": 9,
   "metadata": {},
   "outputs": [],
   "source": [
    "def get_expected_return(\n",
    "    rewards: tf.Tensor, \n",
    "    gamma: float, \n",
    "    standardize: bool = True) -> tf.Tensor:\n",
    "  \"\"\"Compute expected returns per timestep.\"\"\"\n",
    "\n",
    "  n = tf.shape(rewards)[0]\n",
    "  returns = tf.TensorArray(dtype=tf.float32, size=n)\n",
    "\n",
    "  # Start from the end of `rewards` and accumulate reward sums\n",
    "  # into the `returns` array\n",
    "  rewards = tf.cast(rewards[::-1], dtype=tf.float32)\n",
    "  discounted_sum = tf.constant(0.0)\n",
    "  discounted_sum_shape = discounted_sum.shape\n",
    "  for i in tf.range(n):\n",
    "    reward = rewards[i]\n",
    "    discounted_sum = reward + gamma * discounted_sum\n",
    "    discounted_sum.set_shape(discounted_sum_shape)\n",
    "    returns = returns.write(i, discounted_sum)\n",
    "  returns = returns.stack()[::-1]\n",
    "\n",
    "  if standardize:\n",
    "    returns = ((returns - tf.math.reduce_mean(returns)) / \n",
    "               (tf.math.reduce_std(returns) + eps))\n",
    "\n",
    "  return returns"
   ]
  },
  {
   "cell_type": "markdown",
   "metadata": {},
   "source": [
    "## The actor-critic loss"
   ]
  },
  {
   "cell_type": "code",
   "execution_count": 10,
   "metadata": {},
   "outputs": [],
   "source": [
    "huber_loss = tf.keras.losses.Huber(reduction=tf.keras.losses.Reduction.SUM)\n",
    "\n",
    "def compute_loss(\n",
    "    action_probs: tf.Tensor,  \n",
    "    values: tf.Tensor,  \n",
    "    returns: tf.Tensor) -> tf.Tensor:\n",
    "  \"\"\"Computes the combined actor-critic loss.\"\"\"\n",
    "\n",
    "  advantage = returns - values\n",
    "\n",
    "  action_log_probs = tf.math.log(action_probs)\n",
    "  actor_loss = -tf.math.reduce_sum(action_log_probs * advantage)\n",
    "\n",
    "  critic_loss = huber_loss(values, returns)\n",
    "\n",
    "  return actor_loss + critic_loss"
   ]
  },
  {
   "cell_type": "markdown",
   "metadata": {},
   "source": [
    "## Defining the training step to update parameters"
   ]
  },
  {
   "cell_type": "code",
   "execution_count": 11,
   "metadata": {},
   "outputs": [],
   "source": [
    "optimizer = tf.keras.optimizers.Adam(learning_rate=0.01)\n",
    "\n",
    "\n",
    "@tf.function\n",
    "def train_step(\n",
    "    initial_state: tf.Tensor, \n",
    "    model: tf.keras.Model, \n",
    "    optimizer: tf.keras.optimizers.Optimizer, \n",
    "    gamma: float, \n",
    "    max_steps_per_episode: int) -> tf.Tensor:\n",
    "  \"\"\"Runs a model training step.\"\"\"\n",
    "\n",
    "  with tf.GradientTape() as tape:\n",
    "\n",
    "    # Run the model for one episode to collect training data\n",
    "    action_probs, values, rewards = run_episode(\n",
    "        initial_state, model, max_steps_per_episode) \n",
    "\n",
    "    # Calculate expected returns\n",
    "    returns = get_expected_return(rewards, gamma)\n",
    "\n",
    "    # Convert training data to appropriate TF tensor shapes\n",
    "    action_probs, values, returns = [\n",
    "        tf.expand_dims(x, 1) for x in [action_probs, values, returns]] \n",
    "\n",
    "    # Calculating loss values to update our network\n",
    "    loss = compute_loss(action_probs, values, returns)\n",
    "\n",
    "  # Compute the gradients from the loss\n",
    "  grads = tape.gradient(loss, model.trainable_variables)\n",
    "\n",
    "  # Apply the gradients to the model's parameters\n",
    "  optimizer.apply_gradients(zip(grads, model.trainable_variables))\n",
    "\n",
    "  episode_reward = tf.math.reduce_sum(rewards)\n",
    "\n",
    "  return episode_reward"
   ]
  },
  {
   "cell_type": "markdown",
   "metadata": {},
   "source": [
    "## Run the training loop"
   ]
  },
  {
   "cell_type": "code",
   "execution_count": 20,
   "metadata": {},
   "outputs": [
    {
     "name": "stderr",
     "output_type": "stream",
     "text": [
      "Episode 101:   1%|          | 102/10000 [00:09<14:39, 11.25it/s, episode_reward=130, running_reward=84.6]\n"
     ]
    },
    {
     "ename": "KeyboardInterrupt",
     "evalue": "",
     "output_type": "error",
     "traceback": [
      "\u001b[0;31m---------------------------------------------------------------------------\u001b[0m",
      "\u001b[0;31mKeyboardInterrupt\u001b[0m                         Traceback (most recent call last)",
      "\u001b[0;32m<timed exec>\u001b[0m in \u001b[0;36m<module>\u001b[0;34m\u001b[0m\n",
      "\u001b[0;32m~/anaconda3/lib/python3.8/site-packages/tensorflow/python/eager/def_function.py\u001b[0m in \u001b[0;36m__call__\u001b[0;34m(self, *args, **kwds)\u001b[0m\n\u001b[1;32m    778\u001b[0m       \u001b[0;32melse\u001b[0m\u001b[0;34m:\u001b[0m\u001b[0;34m\u001b[0m\u001b[0;34m\u001b[0m\u001b[0m\n\u001b[1;32m    779\u001b[0m         \u001b[0mcompiler\u001b[0m \u001b[0;34m=\u001b[0m \u001b[0;34m\"nonXla\"\u001b[0m\u001b[0;34m\u001b[0m\u001b[0;34m\u001b[0m\u001b[0m\n\u001b[0;32m--> 780\u001b[0;31m         \u001b[0mresult\u001b[0m \u001b[0;34m=\u001b[0m \u001b[0mself\u001b[0m\u001b[0;34m.\u001b[0m\u001b[0m_call\u001b[0m\u001b[0;34m(\u001b[0m\u001b[0;34m*\u001b[0m\u001b[0margs\u001b[0m\u001b[0;34m,\u001b[0m \u001b[0;34m**\u001b[0m\u001b[0mkwds\u001b[0m\u001b[0;34m)\u001b[0m\u001b[0;34m\u001b[0m\u001b[0;34m\u001b[0m\u001b[0m\n\u001b[0m\u001b[1;32m    781\u001b[0m \u001b[0;34m\u001b[0m\u001b[0m\n\u001b[1;32m    782\u001b[0m       \u001b[0mnew_tracing_count\u001b[0m \u001b[0;34m=\u001b[0m \u001b[0mself\u001b[0m\u001b[0;34m.\u001b[0m\u001b[0m_get_tracing_count\u001b[0m\u001b[0;34m(\u001b[0m\u001b[0;34m)\u001b[0m\u001b[0;34m\u001b[0m\u001b[0;34m\u001b[0m\u001b[0m\n",
      "\u001b[0;32m~/anaconda3/lib/python3.8/site-packages/tensorflow/python/eager/def_function.py\u001b[0m in \u001b[0;36m_call\u001b[0;34m(self, *args, **kwds)\u001b[0m\n\u001b[1;32m    805\u001b[0m       \u001b[0;31m# In this case we have created variables on the first call, so we run the\u001b[0m\u001b[0;34m\u001b[0m\u001b[0;34m\u001b[0m\u001b[0;34m\u001b[0m\u001b[0m\n\u001b[1;32m    806\u001b[0m       \u001b[0;31m# defunned version which is guaranteed to never create variables.\u001b[0m\u001b[0;34m\u001b[0m\u001b[0;34m\u001b[0m\u001b[0;34m\u001b[0m\u001b[0m\n\u001b[0;32m--> 807\u001b[0;31m       \u001b[0;32mreturn\u001b[0m \u001b[0mself\u001b[0m\u001b[0;34m.\u001b[0m\u001b[0m_stateless_fn\u001b[0m\u001b[0;34m(\u001b[0m\u001b[0;34m*\u001b[0m\u001b[0margs\u001b[0m\u001b[0;34m,\u001b[0m \u001b[0;34m**\u001b[0m\u001b[0mkwds\u001b[0m\u001b[0;34m)\u001b[0m  \u001b[0;31m# pylint: disable=not-callable\u001b[0m\u001b[0;34m\u001b[0m\u001b[0;34m\u001b[0m\u001b[0m\n\u001b[0m\u001b[1;32m    808\u001b[0m     \u001b[0;32melif\u001b[0m \u001b[0mself\u001b[0m\u001b[0;34m.\u001b[0m\u001b[0m_stateful_fn\u001b[0m \u001b[0;32mis\u001b[0m \u001b[0;32mnot\u001b[0m \u001b[0;32mNone\u001b[0m\u001b[0;34m:\u001b[0m\u001b[0;34m\u001b[0m\u001b[0;34m\u001b[0m\u001b[0m\n\u001b[1;32m    809\u001b[0m       \u001b[0;31m# Release the lock early so that multiple threads can perform the call\u001b[0m\u001b[0;34m\u001b[0m\u001b[0;34m\u001b[0m\u001b[0;34m\u001b[0m\u001b[0m\n",
      "\u001b[0;32m~/anaconda3/lib/python3.8/site-packages/tensorflow/python/eager/function.py\u001b[0m in \u001b[0;36m__call__\u001b[0;34m(self, *args, **kwargs)\u001b[0m\n\u001b[1;32m   2827\u001b[0m     \u001b[0;32mwith\u001b[0m \u001b[0mself\u001b[0m\u001b[0;34m.\u001b[0m\u001b[0m_lock\u001b[0m\u001b[0;34m:\u001b[0m\u001b[0;34m\u001b[0m\u001b[0;34m\u001b[0m\u001b[0m\n\u001b[1;32m   2828\u001b[0m       \u001b[0mgraph_function\u001b[0m\u001b[0;34m,\u001b[0m \u001b[0margs\u001b[0m\u001b[0;34m,\u001b[0m \u001b[0mkwargs\u001b[0m \u001b[0;34m=\u001b[0m \u001b[0mself\u001b[0m\u001b[0;34m.\u001b[0m\u001b[0m_maybe_define_function\u001b[0m\u001b[0;34m(\u001b[0m\u001b[0margs\u001b[0m\u001b[0;34m,\u001b[0m \u001b[0mkwargs\u001b[0m\u001b[0;34m)\u001b[0m\u001b[0;34m\u001b[0m\u001b[0;34m\u001b[0m\u001b[0m\n\u001b[0;32m-> 2829\u001b[0;31m     \u001b[0;32mreturn\u001b[0m \u001b[0mgraph_function\u001b[0m\u001b[0;34m.\u001b[0m\u001b[0m_filtered_call\u001b[0m\u001b[0;34m(\u001b[0m\u001b[0margs\u001b[0m\u001b[0;34m,\u001b[0m \u001b[0mkwargs\u001b[0m\u001b[0;34m)\u001b[0m  \u001b[0;31m# pylint: disable=protected-access\u001b[0m\u001b[0;34m\u001b[0m\u001b[0;34m\u001b[0m\u001b[0m\n\u001b[0m\u001b[1;32m   2830\u001b[0m \u001b[0;34m\u001b[0m\u001b[0m\n\u001b[1;32m   2831\u001b[0m   \u001b[0;34m@\u001b[0m\u001b[0mproperty\u001b[0m\u001b[0;34m\u001b[0m\u001b[0;34m\u001b[0m\u001b[0m\n",
      "\u001b[0;32m~/anaconda3/lib/python3.8/site-packages/tensorflow/python/eager/function.py\u001b[0m in \u001b[0;36m_filtered_call\u001b[0;34m(self, args, kwargs, cancellation_manager)\u001b[0m\n\u001b[1;32m   1841\u001b[0m       \u001b[0;31m`\u001b[0m\u001b[0margs\u001b[0m\u001b[0;31m`\u001b[0m \u001b[0;32mand\u001b[0m\u001b[0;31m \u001b[0m\u001b[0;31m`\u001b[0m\u001b[0mkwargs\u001b[0m\u001b[0;31m`\u001b[0m\u001b[0;34m.\u001b[0m\u001b[0;34m\u001b[0m\u001b[0;34m\u001b[0m\u001b[0m\n\u001b[1;32m   1842\u001b[0m     \"\"\"\n\u001b[0;32m-> 1843\u001b[0;31m     return self._call_flat(\n\u001b[0m\u001b[1;32m   1844\u001b[0m         [t for t in nest.flatten((args, kwargs), expand_composites=True)\n\u001b[1;32m   1845\u001b[0m          if isinstance(t, (ops.Tensor,\n",
      "\u001b[0;32m~/anaconda3/lib/python3.8/site-packages/tensorflow/python/eager/function.py\u001b[0m in \u001b[0;36m_call_flat\u001b[0;34m(self, args, captured_inputs, cancellation_manager)\u001b[0m\n\u001b[1;32m   1921\u001b[0m         and executing_eagerly):\n\u001b[1;32m   1922\u001b[0m       \u001b[0;31m# No tape is watching; skip to running the function.\u001b[0m\u001b[0;34m\u001b[0m\u001b[0;34m\u001b[0m\u001b[0;34m\u001b[0m\u001b[0m\n\u001b[0;32m-> 1923\u001b[0;31m       return self._build_call_outputs(self._inference_function.call(\n\u001b[0m\u001b[1;32m   1924\u001b[0m           ctx, args, cancellation_manager=cancellation_manager))\n\u001b[1;32m   1925\u001b[0m     forward_backward = self._select_forward_and_backward_functions(\n",
      "\u001b[0;32m~/anaconda3/lib/python3.8/site-packages/tensorflow/python/eager/function.py\u001b[0m in \u001b[0;36mcall\u001b[0;34m(self, ctx, args, cancellation_manager)\u001b[0m\n\u001b[1;32m    543\u001b[0m       \u001b[0;32mwith\u001b[0m \u001b[0m_InterpolateFunctionError\u001b[0m\u001b[0;34m(\u001b[0m\u001b[0mself\u001b[0m\u001b[0;34m)\u001b[0m\u001b[0;34m:\u001b[0m\u001b[0;34m\u001b[0m\u001b[0;34m\u001b[0m\u001b[0m\n\u001b[1;32m    544\u001b[0m         \u001b[0;32mif\u001b[0m \u001b[0mcancellation_manager\u001b[0m \u001b[0;32mis\u001b[0m \u001b[0;32mNone\u001b[0m\u001b[0;34m:\u001b[0m\u001b[0;34m\u001b[0m\u001b[0;34m\u001b[0m\u001b[0m\n\u001b[0;32m--> 545\u001b[0;31m           outputs = execute.execute(\n\u001b[0m\u001b[1;32m    546\u001b[0m               \u001b[0mstr\u001b[0m\u001b[0;34m(\u001b[0m\u001b[0mself\u001b[0m\u001b[0;34m.\u001b[0m\u001b[0msignature\u001b[0m\u001b[0;34m.\u001b[0m\u001b[0mname\u001b[0m\u001b[0;34m)\u001b[0m\u001b[0;34m,\u001b[0m\u001b[0;34m\u001b[0m\u001b[0;34m\u001b[0m\u001b[0m\n\u001b[1;32m    547\u001b[0m               \u001b[0mnum_outputs\u001b[0m\u001b[0;34m=\u001b[0m\u001b[0mself\u001b[0m\u001b[0;34m.\u001b[0m\u001b[0m_num_outputs\u001b[0m\u001b[0;34m,\u001b[0m\u001b[0;34m\u001b[0m\u001b[0;34m\u001b[0m\u001b[0m\n",
      "\u001b[0;32m~/anaconda3/lib/python3.8/site-packages/tensorflow/python/eager/execute.py\u001b[0m in \u001b[0;36mquick_execute\u001b[0;34m(op_name, num_outputs, inputs, attrs, ctx, name)\u001b[0m\n\u001b[1;32m     57\u001b[0m   \u001b[0;32mtry\u001b[0m\u001b[0;34m:\u001b[0m\u001b[0;34m\u001b[0m\u001b[0;34m\u001b[0m\u001b[0m\n\u001b[1;32m     58\u001b[0m     \u001b[0mctx\u001b[0m\u001b[0;34m.\u001b[0m\u001b[0mensure_initialized\u001b[0m\u001b[0;34m(\u001b[0m\u001b[0;34m)\u001b[0m\u001b[0;34m\u001b[0m\u001b[0;34m\u001b[0m\u001b[0m\n\u001b[0;32m---> 59\u001b[0;31m     tensors = pywrap_tfe.TFE_Py_Execute(ctx._handle, device_name, op_name,\n\u001b[0m\u001b[1;32m     60\u001b[0m                                         inputs, attrs, num_outputs)\n\u001b[1;32m     61\u001b[0m   \u001b[0;32mexcept\u001b[0m \u001b[0mcore\u001b[0m\u001b[0;34m.\u001b[0m\u001b[0m_NotOkStatusException\u001b[0m \u001b[0;32mas\u001b[0m \u001b[0me\u001b[0m\u001b[0;34m:\u001b[0m\u001b[0;34m\u001b[0m\u001b[0;34m\u001b[0m\u001b[0m\n",
      "\u001b[0;31mKeyboardInterrupt\u001b[0m: "
     ]
    }
   ],
   "source": [
    "%%time\n",
    "\n",
    "max_episodes = 10000\n",
    "max_steps_per_episode = 1000\n",
    "\n",
    "# Cartpole-v0 is considered solved if average reward is >= 195 over 100 \n",
    "# consecutive trials\n",
    "reward_threshold = 195\n",
    "running_reward = 0\n",
    "\n",
    "# Discount factor for future rewards\n",
    "gamma = 0.99\n",
    "\n",
    "with tqdm.trange(max_episodes) as t:\n",
    "  for i in t:\n",
    "    initial_state = tf.constant(env.reset(), dtype=tf.float32)\n",
    "    episode_reward = int(train_step(\n",
    "        initial_state, model, optimizer, gamma, max_steps_per_episode))\n",
    "\n",
    "    running_reward = episode_reward*0.01 + running_reward*.99\n",
    "  \n",
    "    t.set_description(f'Episode {i}')\n",
    "    t.set_postfix(\n",
    "        episode_reward=episode_reward, running_reward=running_reward)\n",
    "  \n",
    "    # Show average episode reward every 10 episodes\n",
    "    if i % 10 == 0:\n",
    "      pass # print(f'Episode {i}: average reward: {avg_reward}')\n",
    "  \n",
    "    if running_reward > reward_threshold:  \n",
    "        break\n",
    "\n",
    "print(f'\\nSolved at episode {i}: average reward: {running_reward:.2f}!')"
   ]
  },
  {
   "cell_type": "markdown",
   "metadata": {},
   "source": [
    "# Visualization"
   ]
  },
  {
   "cell_type": "code",
   "execution_count": 18,
   "metadata": {},
   "outputs": [],
   "source": [
    "# Render an episode and save as a GIF file\n",
    "\n",
    "from IPython import display as ipythondisplay\n",
    "from PIL import Image\n",
    "from pyvirtualdisplay import Display\n",
    "\n",
    "\n",
    "display = Display(visible=0, size=(400, 300))\n",
    "display.start()\n",
    "\n",
    "\n",
    "def render_episode(env: gym.Env, model: tf.keras.Model, max_steps: int): \n",
    "  screen = env.render(mode='rgb_array')\n",
    "  im = Image.fromarray(screen)\n",
    "\n",
    "  images = [im]\n",
    "  \n",
    "  state = tf.constant(env.reset(), dtype=tf.float32)\n",
    "  for i in range(1, max_steps + 1):\n",
    "    state = tf.expand_dims(state, 0)\n",
    "    action_probs, _ = model(state)\n",
    "    action = np.argmax(np.squeeze(action_probs))\n",
    "\n",
    "    state, _, done, _ = env.step(action)\n",
    "    state = tf.constant(state, dtype=tf.float32)\n",
    "\n",
    "    # Render screen every 10 steps\n",
    "    if i % 10 == 0:\n",
    "      screen = env.render(mode='rgb_array')\n",
    "      images.append(Image.fromarray(screen))\n",
    "  \n",
    "    if done:\n",
    "      break\n",
    "  \n",
    "  return images\n",
    "\n",
    "\n",
    "# Save GIF image\n",
    "images = render_episode(env, model, max_steps_per_episode)\n",
    "image_file = 'cartpole-v0.gif'\n",
    "# loop=0: loop forever, duration=1: play each frame for 1ms\n",
    "images[0].save(\n",
    "    image_file, save_all=True, append_images=images[1:], loop=0, duration=1)"
   ]
  },
  {
   "cell_type": "code",
   "execution_count": 19,
   "metadata": {},
   "outputs": [
    {
     "data": {
      "text/html": [
       "<img src=\"data:image/gif;base64,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\"/>"
      ],
      "text/plain": [
       "<IPython.core.display.HTML object>"
      ]
     },
     "execution_count": 19,
     "metadata": {},
     "output_type": "execute_result"
    }
   ],
   "source": [
    "import tensorflow_docs.vis.embed as embed\n",
    "embed.embed_file(image_file)"
   ]
  },
  {
   "cell_type": "code",
   "execution_count": null,
   "metadata": {},
   "outputs": [],
   "source": []
  }
 ],
 "metadata": {
  "kernelspec": {
   "display_name": "Python 3",
   "language": "python",
   "name": "python3"
  },
  "language_info": {
   "codemirror_mode": {
    "name": "ipython",
    "version": 3
   },
   "file_extension": ".py",
   "mimetype": "text/x-python",
   "name": "python",
   "nbconvert_exporter": "python",
   "pygments_lexer": "ipython3",
   "version": "3.8.3"
  }
 },
 "nbformat": 4,
 "nbformat_minor": 4
}
