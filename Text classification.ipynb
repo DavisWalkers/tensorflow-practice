{
 "cells": [
  {
   "cell_type": "code",
   "execution_count": 1,
   "metadata": {},
   "outputs": [],
   "source": [
    "import matplotlib.pyplot as plt\n",
    "import os\n",
    "import re\n",
    "import shutil\n",
    "import string\n",
    "import tensorflow as tf\n",
    "\n",
    "from tensorflow.keras import layers\n",
    "from tensorflow.keras import losses\n",
    "from tensorflow.keras import preprocessing\n",
    "from tensorflow.keras.layers.experimental.preprocessing import TextVectorization"
   ]
  },
  {
   "cell_type": "code",
   "execution_count": 2,
   "metadata": {},
   "outputs": [
    {
     "name": "stdout",
     "output_type": "stream",
     "text": [
      "2.3.1\n"
     ]
    }
   ],
   "source": [
    "print(tf.__version__)"
   ]
  },
  {
   "cell_type": "markdown",
   "metadata": {},
   "source": [
    "# Download the BigQuery dataset"
   ]
  },
  {
   "cell_type": "code",
   "execution_count": 39,
   "metadata": {},
   "outputs": [],
   "source": [
    "url = \"http://storage.googleapis.com/download.tensorflow.org/data/stack_overflow_16k.tar.gz\"\n",
    "\n",
    "tf.keras.utils.get_file(\"stack_overflow_16k.tar.gz\", url,\n",
    "                        untar=True, cache_dir='.',\n",
    "                        cache_subdir='')\n",
    "\n",
    "dataset_dir = os.path.join(os.path.dirname(dataset), '.')"
   ]
  },
  {
   "cell_type": "code",
   "execution_count": 40,
   "metadata": {},
   "outputs": [
    {
     "data": {
      "text/plain": [
       "['.ipynb_checkpoints',\n",
       " 'README.md',\n",
       " 'test',\n",
       " 'train',\n",
       " 'Text classification.ipynb',\n",
       " 'stack_overflow_16k.tar.gz.tar.gz']"
      ]
     },
     "execution_count": 40,
     "metadata": {},
     "output_type": "execute_result"
    }
   ],
   "source": [
    "os.listdir(dataset_dir)"
   ]
  },
  {
   "cell_type": "code",
   "execution_count": 41,
   "metadata": {},
   "outputs": [
    {
     "data": {
      "text/plain": [
       "['java', 'javascript', 'csharp', 'python']"
      ]
     },
     "execution_count": 41,
     "metadata": {},
     "output_type": "execute_result"
    }
   ],
   "source": [
    "train_dir = os.path.join(dataset_dir, 'train')\n",
    "os.listdir(train_dir)"
   ]
  },
  {
   "cell_type": "code",
   "execution_count": 42,
   "metadata": {},
   "outputs": [
    {
     "name": "stdout",
     "output_type": "stream",
     "text": [
      "\"is it legal to define two methods with the same name but different returning types? i've written a piece of code to determine a typical palindrome string. i did this by the definition of a reverse() method returning a string. i also eager to have the same method, but in the void form, because of some future needs..as i add the latter to the code, the valid output will become invalid..so, the question is that is it legal to define two methods with the same name but different returning types?.if not, please let me know how to write this code with the void-type method...class detector(object):.    def __init__(self,string):.        self.string = string..    forbidden = (' ','!','?','.','-','_','&amp;','%',\"\"#\"\",\"\",\"\")..    def eliminator(self):.        for item in self.forbidden:.            if item in self.string:.                self.string = self.string.replace(item,\"\"\"\")..    def reverse(self):.        return self.string[::-1]            ..    #def reverse(self):.    #    self.string = self.string[::-1]    i am prone to add this method..    def check(self):.        reversed = self.reverse().        if self.string == reversed:.            print(\"\"yes\"\").        else:.            print(\"\"no\"\")..det = detector(\"\"rise to vote, sir!\"\").det.eliminator().det.check()...when i add the commented lines, the valid \"\"yes\"\" becomes \"\"no\"\"!\"\n",
      "\n"
     ]
    }
   ],
   "source": [
    "sample_file = os.path.join(train_dir, 'python/0.txt')\n",
    "with open(sample_file) as f:\n",
    "    print(f.read())"
   ]
  },
  {
   "cell_type": "code",
   "execution_count": 8,
   "metadata": {},
   "outputs": [],
   "source": [
    "remove_dir = os.path.join(train_dir, 'unsup')\n",
    "shutil.rmtree(remove_dir)"
   ]
  },
  {
   "cell_type": "code",
   "execution_count": 43,
   "metadata": {},
   "outputs": [
    {
     "name": "stdout",
     "output_type": "stream",
     "text": [
      "Found 8000 files belonging to 4 classes.\n",
      "Using 6400 files for training.\n"
     ]
    }
   ],
   "source": [
    "batch_size = 32\n",
    "seed = 42\n",
    "\n",
    "raw_train_ds = tf.keras.preprocessing.text_dataset_from_directory(\n",
    "    './train',\n",
    "    batch_size=batch_size,\n",
    "    validation_split=0.2,\n",
    "    subset='training',\n",
    "    seed=seed)"
   ]
  },
  {
   "cell_type": "markdown",
   "metadata": {},
   "source": [
    "## Explore Data "
   ]
  },
  {
   "cell_type": "code",
   "execution_count": 87,
   "metadata": {},
   "outputs": [
    {
     "name": "stdout",
     "output_type": "stream",
     "text": [
      "Question b'\"my tester is going to the wrong constructor i am new to programming so if i ask a question that can be easily fixed, please forgive me. my program has a tester class with a main. when i send that to my regularpolygon class, it sends it to the wrong constructor. i have two constructors. 1 without perameters..public regularpolygon().    {.       mynumsides = 5;.       mysidelength = 30;.    }//end default constructor...and my second, with perameters. ..public regularpolygon(int numsides, double sidelength).    {.        mynumsides = numsides;.        mysidelength = sidelength;.    }// end constructor...in my tester class i have these two lines:..regularpolygon shape = new regularpolygon(numsides, sidelength);.        shape.menu();...numsides and sidelength were declared and initialized earlier in the testing class...so what i want to happen, is the tester class sends numsides and sidelength to the second constructor and use it in that class. but it only uses the default constructor, which therefor ruins the whole rest of the program. can somebody help me?..for those of you who want to see more of my code: here you go..public double vertexangle().    {.        system.out.println(\"\"the vertex angle method: \"\" + mynumsides);// prints out 5.        system.out.println(\"\"the vertex angle method: \"\" + mysidelength); // prints out 30..        double vertexangle;.        vertexangle = ((mynumsides - 2.0) / mynumsides) * 180.0;.        return vertexangle;.    }//end method vertexangle..public void menu().{.    system.out.println(mynumsides); // prints out what the user puts in.    system.out.println(mysidelength); // prints out what the user puts in.    gotographic();.    calcr(mynumsides, mysidelength);.    calcr(mynumsides, mysidelength);.    print(); .}// end menu...this is my entire tester class:..public static void main(string[] arg).{.    int numsides;.    double sidelength;.    scanner keyboard = new scanner(system.in);..    system.out.println(\"\"welcome to the regular polygon program!\"\");.    system.out.println();..    system.out.print(\"\"enter the number of sides of the polygon ==&gt; \"\");.    numsides = keyboard.nextint();.    system.out.println();..    system.out.print(\"\"enter the side length of each side ==&gt; \"\");.    sidelength = keyboard.nextdouble();.    system.out.println();..    regularpolygon shape = new regularpolygon(numsides, sidelength);.    shape.menu();.}//end main...for testing it i sent it numsides 4 and sidelength 100.\"\\n'\n",
      "Labes 1\n",
      "\n",
      "Question b'\"i can\\'t type anything on certain scanner i\\'ve been creating a simple library system for the past few days, i have completed the population per shelf, displays, etc. thanks to this site. currently, i\\'m having trouble with a borrower borrowing either a physical book, or download an e-book or borrow an equipment. firstly, there was a null point exception error when running, an error when calling the borrowbookph, and lastly, i don\\'t know if the book is really being borrowed or downloaded. ..i\\'ve posted a shortened code of my library project...edit: i\\'ve managed to figure out what\\'s causing my problem. and surfaced a new one, right now my problem is that i can\\'t type any string when asked \"\"input book/equipment name:\"\" there are no errors / warnings on my code...driver class: ..system.out.println(\"\"input borrower: \"\");.    int borrowerid = sc.nextint();..    switch(borrowerid){..    case 11074450: system.out.println(\"\"1. physical 2. digital 3. equipment: \"\");.                    int choice = sc.nextint();.                    switch(choice){.                        case 1: system.out.println(\"\"input book name: \"\");.                                string borrowip = sc.nextline();.                                for(int i = 0; i &lt; ph.size(); i++){.                                    if(borrowip.equals(ph.get(i).gettitle())).                                        brw1.borrowbookph(ph.get(i));.                                }.                                break;.                        case 2: system.out.println(\"\"input book name: \"\");.                                string borrowid = sc.nextline();.                                for(int i = 0; i &lt; dg.size(); i++){.                                    if(borrowid.equals(dg.get(i).gettitle())).                                        brw1.downloadbookdg(dg.get(i));.                                }.                                break;.                        case 3: system.out.println(\"\"input equipment name: \"\");.                                string borrowie = sc.nextline();.                                for(int i = 0; i &lt; eqp.size(); i++){.                                    if(borrowie.equals(eqp.get(i).getname())).                                        brw1.borroweq(eqp.get(i));.                                }.                                break;.                    }.                    break;.    case 10355230: system.out.println(\"\"1. physical 2. digital 3. equipment: \"\");.                    int choice2 = sc.nextint();.                    switch(choice2){.                        case 1: system.out.println(\"\"input book name: \"\");.                                string borrowip = sc.nextline();.                                for(int i = 0; i &lt; ph.size(); i++){.                                    if(borrowip.equals(ph.get(i).gettitle())).                                        brw2.borrowbookph(ph.get(i));.                                    }.                                break;.                        case 2: system.out.println(\"\"input book name: \"\");.                                string borrowid = sc.nextline();.                                for(int i = 0; i &lt; dg.size(); i++){.                                    if(borrowid.equals(dg.get(i).gettitle())).                                        brw2.downloadbookdg(dg.get(i));.                                    }.                                break;.                        case 3: system.out.println(\"\"input equipment name: \"\");.                                string borrowie = sc.nextline();.                                for(int i = 0; i &lt; eqp.size(); i++){.                                    if(borrowie.equals(eqp.get(i).getname())).                                        brw2.borroweq(eqp.get(i));.                                }.                                break;.                    }.                    break;.    case 11423970: system.out.println(\"\"1. physical 2. digital 3. equipment: \"\");.                    int choice3 = sc.nextint();.                    switch(choice3){.                        case 1: system.out.println(\"\"input book name: \"\");.                                string borrowip = sc.nextline();.                                for(int i = 0; i &lt; ph.size(); i++){.                                    if(borrowip.equals(ph.get(i).gettitle())).                                        brw3.borrowbookph(ph.get(i));.                                }.                                break;.                        case 2: system.out.println(\"\"input book name: \"\");.                                string borrowid = sc.nextline();.                                for(int i = 0; i &lt; dg.size(); i++){.                                    if(borrowid.equals(dg.get(i).gettitle())).                                        brw3.downloadbookdg(dg.get(i));.                                }.                                break;.                        case 3: system.out.println(\"\"input equipment name: \"\");.                                string borrowie = sc.nextline();.                                for(int i = 0; i &lt; eqp.size(); i++){.                                    if(borrowie.equals(eqp.get(i).getname())).                                        brw3.borroweq(eqp.get(i));.                                }.                                break;.                    }.                    break;.    case 11092001: system.out.println(\"\"1. physical 2. digital 3. equipment: \"\");.                    int choice4 = sc.nextint();.                    switch(choice4){.                        case 1: system.out.println(\"\"input book name: \"\");.                                string borrowip = sc.nextline();.                                for(int i = 0; i &lt; ph.size(); i++){.                                    if(borrowip.equals(ph.get(i).gettitle())).                                        brw4.borrowbookph(ph.get(i));.                                }.                                break;.                        case 2: system.out.println(\"\"input book name: \"\");.                                string borrowid = sc.nextline();.                                for(int i = 0; i &lt; dg.size(); i++){.                                    if(borrowid.equals(dg.get(i).gettitle())).                                        brw4.downloadbookdg(dg.get(i));.                                }.                                break;.                        case 3: system.out.println(\"\"input equipment name: \"\");.                                string borrowie = sc.nextline();.                                for(int i = 0; i &lt; eqp.size(); i++){.                                    if(borrowie.equals(eqp.get(i).getname())).                                        brw4.borroweq(eqp.get(i));.                                }.                                break;.                    }.                    break;.    case 10911550: system.out.println(\"\"1. physical 2. digital 3. equipment: \"\");.                    int choice5 = sc.nextint();.                    switch(choice5){.                        case 1: system.out.println(\"\"input book name: \"\");.                                string borrowip = sc.nextline();.                                for(int i = 0; i &lt; ph.size(); i++){.                                    if(borrowip.equals(ph.get(i).gettitle())).                                        brw5.borrowbookph(ph.get(i));.                                }.                                break;.                        case 2: system.out.println(\"\"input book name: \"\");.                                string borrowid = sc.nextline();.                                for(int i = 0; i &lt; dg.size(); i++){.                                    if(borrowid.equals(dg.get(i).gettitle())).                                        brw5.downloadbookdg(dg.get(i));.                                }.                                break;.                        case 3: system.out.println(\"\"input equipment name: \"\");.                                string borrowie = sc.nextline();.                                for(int i = 0; i &lt; eqp.size(); i++){.                                    if(borrowie.equals(eqp.get(i).getname())).                                        brw5.borroweq(eqp.get(i));.                                }.                                break;.                    }.                    break;.    }...borrower class:..private physical borrowedp;.private digital borrowedd;.private equipment borrowede;..public void borrowbookph(physical borrow){..    this.borrowedp = borrow;.    this.borrowedp.borrowph(this);..public void downloadbookdg(digital borrow){..    this.borrowedd = borrow;.    this.borrowedd.borrowdg(this);.    this.borrowedd.countdownload();..}..public void borroweq(equipment borrow){..    this.borrowede = borrow;.    this.borrowede.borroweq(this);..}...physical class: ..    public void borrowph(borrower borrower){..    this.isavailable = false;.    this.borrower = borrower;..}..public void returnph(){..    this.isavailable = true;.    this.borrower = null;..}...digital class:..    public void countdownload(){..    this.count += 1;..}..public void showdownload(){..    system.out.println(this.count);.}..public void borrowdg(borrower borrower){..    this.status = false;.    this.borrower = borrower;.    countdownload();..}...equipment class:..    public void borroweq(borrower borrower){..    this.isavailable = false;.    this.borrower = borrower;..}...huhu. please help. this \\'i can\\'t type anything\\' is frustrating.\"\\n'\n",
      "Labes 1\n",
      "\n",
      "Question b'\"method that adds elements to set always throwing custom exception ok, so i\\'ve got a method which adds elements to a list but it is always throwing my custom exception, no matter what, even when there are no elements in the set i made...private set&lt;plan&gt; planset = new hashset&lt;plan&gt;();.public plan createplan(string name) throws duplicateplan{.    plan plan = new plan(name);...    if(!planset.contains(plan)){.        planset.add(plan);.    } else {.        throw(new duplicateplan(\"\"error, duplicate plan\"\"));.    }..    return plan;.}...i\\'m thinking that my equals() and hashcode() methods are causing this. currently i\\'m using the default overridden eclipse hashcode() and equals(), this is what i\\'ve got there:..@override.public int hashcode() {.    final int prime = 31;.    int result = 1;.    result = prime * result + ((name == null) ? 0 : name.hashcode());.    return result;.}..@override.public boolean equals(object obj) {.    if (this == obj){.        return true;.    } if (obj == null){.        return false;.    } if (getclass() != obj.getclass()){.        return false;.            }.    plan other = (plan) obj;.    if (name == null) {.        if (other.name != null){.            return false;.                    }.    } else if (!name.equals(other.name)){.        return false;.            }.    return true;.}...this is what plan does:..private string name;.private set&lt;tables&gt; tablesset;...public plan(string name){.    this.name = name ;.}...here\\'s what\\'s supposed to happen if a user sets the same name in the textfield:..newplan.setonaction(new eventhandler&lt;actionevent&gt;(){.        @override.        public void handle(actionevent action){.            if(!newplan.gettext().isempty()){.                try {.                    string name = planname.gettext();.                    plan.createplan(name);.                    esquema =             esquemas.createplan(planname.gettext());.                    optionsplans.getitems().add(plan.getname());.                } catch (duplicateplan e) {.                    dialog.errordialog(planerror, duplicate);.                }.            } else {.                dialog.errordialog(empty, emptyspace);.            }.        }.    });\"\\n'\n",
      "Labes 1\n",
      "\n",
      "Question b'\"argument out of range exception thrown i saw this function on percentile calculation, so i copied it and pasted it into the compiler, and it gives me an outofrange exception at..        else.        {.            int k = (int)n;.            double d = n - k;.            return sequence[k - 1] + d * (sequence[k] - sequence[k - 1]);//exception.        }...what could be the source of the problem, and how do i solve it?..function:.. public double percentile(double[] sequence, double excelpercentile). {.    array.sort(sequence);.    int n = sequence.length;.    double n = (n - 1) * excelpercentile + 1;.    // another method: double n = (n + 1) * excelpercentile;.    if (n == 1d) return sequence[0];.    else if (n == n) return sequence[n - 1];.    else.    {.         int k = (int)n;.         double d = n - k;.         return sequence[k - 1] + d * (sequence[k] - sequence[k - 1]);.    }.}\"\\n'\n",
      "Labes 0\n",
      "\n",
      "Question b'\"fails on encountering null this code is part of a shopify sync utility. never has failed, until we encountered a product with no value in the compareto shopify field, not that we have a product with no compareto value. ..private decimal? getcompareprice(long? productid, long? variantid, list&lt;product&gt; products).{.    var product = products.where(x =&gt; x.id == productid).firstordefault();.    var variantdata = product.variants.where(x =&gt; x.id == variantid).firstordefault();..    return variantdata != null ? variantdata.compareatprice : null;.}...how do i get my function to return null if the compareto value is null?\"\\n'\n",
      "Labes 0\n",
      "\n"
     ]
    }
   ],
   "source": [
    "for text_batch, label_batch in raw_train_ds.take(1):\n",
    "    for i in range(5):\n",
    "        print(\"Question\", text_batch.numpy()[i])\n",
    "        print(\"Labes\", label_batch.numpy()[i])\n",
    "        print()"
   ]
  },
  {
   "cell_type": "code",
   "execution_count": 47,
   "metadata": {},
   "outputs": [
    {
     "name": "stdout",
     "output_type": "stream",
     "text": [
      "Label 0 corresponds to csharp\n",
      "Label 1 corresponds to java\n",
      "Label 2 corresponds to javascript\n",
      "Label 3 corresponds to python\n"
     ]
    }
   ],
   "source": [
    "print(\"Label 0 corresponds to\", raw_train_ds.class_names[0])\n",
    "print(\"Label 1 corresponds to\", raw_train_ds.class_names[1])\n",
    "print(\"Label 2 corresponds to\", raw_train_ds.class_names[2])\n",
    "print(\"Label 3 corresponds to\", raw_train_ds.class_names[3])"
   ]
  },
  {
   "cell_type": "code",
   "execution_count": 48,
   "metadata": {},
   "outputs": [
    {
     "name": "stdout",
     "output_type": "stream",
     "text": [
      "Found 8000 files belonging to 4 classes.\n",
      "Using 1600 files for validation.\n"
     ]
    }
   ],
   "source": [
    "raw_val_ds = tf.keras.preprocessing.text_dataset_from_directory(\n",
    "    './train',\n",
    "    batch_size=batch_size,\n",
    "    validation_split=0.2,\n",
    "    subset='validation',\n",
    "    seed=seed)"
   ]
  },
  {
   "cell_type": "code",
   "execution_count": 49,
   "metadata": {},
   "outputs": [
    {
     "name": "stdout",
     "output_type": "stream",
     "text": [
      "Found 8000 files belonging to 4 classes.\n"
     ]
    }
   ],
   "source": [
    "raw_test_ds = tf.keras.preprocessing.text_dataset_from_directory(\n",
    "    './test',\n",
    "    batch_size=batch_size)"
   ]
  },
  {
   "cell_type": "markdown",
   "metadata": {},
   "source": [
    "## Prepare data for training"
   ]
  },
  {
   "cell_type": "code",
   "execution_count": 50,
   "metadata": {},
   "outputs": [],
   "source": [
    "def custom_standardization(input_data):\n",
    "    lowercase = tf.strings.lower(input_data)\n",
    "    stripped_html = tf.strings.regex_replace(lowercase, '<br />', ' ')\n",
    "    return tf.strings.regex_replace(stripped_html,\n",
    "                                   '[%s]' % re.escape(string.punctuation),\n",
    "                                   '')"
   ]
  },
  {
   "cell_type": "code",
   "execution_count": 69,
   "metadata": {},
   "outputs": [],
   "source": [
    "max_features = 5000\n",
    "sequence_length = 500\n",
    "\n",
    "vectorize_layer = TextVectorization(\n",
    "    standardize=custom_standardization,\n",
    "    max_tokens=max_features,\n",
    "    output_mode='int',\n",
    "    output_sequence_length=sequence_length)"
   ]
  },
  {
   "cell_type": "code",
   "execution_count": 70,
   "metadata": {},
   "outputs": [],
   "source": [
    "train_text = raw_train_ds.map(lambda x, y: x)\n",
    "vectorize_layer.adapt(train_text)"
   ]
  },
  {
   "cell_type": "markdown",
   "metadata": {},
   "source": [
    "## Vectorize the data"
   ]
  },
  {
   "cell_type": "code",
   "execution_count": 71,
   "metadata": {},
   "outputs": [],
   "source": [
    "def vectorize_text(text, label):\n",
    "    text = tf.expand_dims(text, -1)\n",
    "    return vectorize_layer(text), label"
   ]
  },
  {
   "cell_type": "code",
   "execution_count": 72,
   "metadata": {},
   "outputs": [
    {
     "name": "stdout",
     "output_type": "stream",
     "text": [
      "Question tf.Tensor(b'\"tryparseexact always shows false i am trying to validate the date which is saved in string (20170123) but i am always getting false. can you please help me to get the true output. not getting any error when i execute it...sample given below:..bool testing =  datetime.tryparseexact(\"\"20170123\"\", \"\"yyyy-mm-dd\"\", .cultureinfo.invariantculture, datetimestyles.adjusttouniversal, out datevalue);.           console.writeline(testing);\"\\n', shape=(), dtype=string)\n",
      "Label csharp\n",
      "Vectorized review (<tf.Tensor: shape=(1, 500), dtype=int64, numpy=\n",
      "array([[   1,  338,  502,   96,    3,   34,   81,    4, 1021,    2,  161,\n",
      "          66,    6, 1090,    7,   18,    1,   26,    3,   34,  338,  152,\n",
      "          96,   35,   58,  160,  104,   74,    4,   41,    2,   88,  126,\n",
      "          20,  152,   76,   65,   44,    3,  515,    1,  283,    1,  773,\n",
      "           1, 4074,    1,    1,   94,    1,    1,    0,    0,    0,    0,\n",
      "           0,    0,    0,    0,    0,    0,    0,    0,    0,    0,    0,\n",
      "           0,    0,    0,    0,    0,    0,    0,    0,    0,    0,    0,\n",
      "           0,    0,    0,    0,    0,    0,    0,    0,    0,    0,    0,\n",
      "           0,    0,    0,    0,    0,    0,    0,    0,    0,    0,    0,\n",
      "           0,    0,    0,    0,    0,    0,    0,    0,    0,    0,    0,\n",
      "           0,    0,    0,    0,    0,    0,    0,    0,    0,    0,    0,\n",
      "           0,    0,    0,    0,    0,    0,    0,    0,    0,    0,    0,\n",
      "           0,    0,    0,    0,    0,    0,    0,    0,    0,    0,    0,\n",
      "           0,    0,    0,    0,    0,    0,    0,    0,    0,    0,    0,\n",
      "           0,    0,    0,    0,    0,    0,    0,    0,    0,    0,    0,\n",
      "           0,    0,    0,    0,    0,    0,    0,    0,    0,    0,    0,\n",
      "           0,    0,    0,    0,    0,    0,    0,    0,    0,    0,    0,\n",
      "           0,    0,    0,    0,    0,    0,    0,    0,    0,    0,    0,\n",
      "           0,    0,    0,    0,    0,    0,    0,    0,    0,    0,    0,\n",
      "           0,    0,    0,    0,    0,    0,    0,    0,    0,    0,    0,\n",
      "           0,    0,    0,    0,    0,    0,    0,    0,    0,    0,    0,\n",
      "           0,    0,    0,    0,    0,    0,    0,    0,    0,    0,    0,\n",
      "           0,    0,    0,    0,    0,    0,    0,    0,    0,    0,    0,\n",
      "           0,    0,    0,    0,    0,    0,    0,    0,    0,    0,    0,\n",
      "           0,    0,    0,    0,    0,    0,    0,    0,    0,    0,    0,\n",
      "           0,    0,    0,    0,    0,    0,    0,    0,    0,    0,    0,\n",
      "           0,    0,    0,    0,    0,    0,    0,    0,    0,    0,    0,\n",
      "           0,    0,    0,    0,    0,    0,    0,    0,    0,    0,    0,\n",
      "           0,    0,    0,    0,    0,    0,    0,    0,    0,    0,    0,\n",
      "           0,    0,    0,    0,    0,    0,    0,    0,    0,    0,    0,\n",
      "           0,    0,    0,    0,    0,    0,    0,    0,    0,    0,    0,\n",
      "           0,    0,    0,    0,    0,    0,    0,    0,    0,    0,    0,\n",
      "           0,    0,    0,    0,    0,    0,    0,    0,    0,    0,    0,\n",
      "           0,    0,    0,    0,    0,    0,    0,    0,    0,    0,    0,\n",
      "           0,    0,    0,    0,    0,    0,    0,    0,    0,    0,    0,\n",
      "           0,    0,    0,    0,    0,    0,    0,    0,    0,    0,    0,\n",
      "           0,    0,    0,    0,    0,    0,    0,    0,    0,    0,    0,\n",
      "           0,    0,    0,    0,    0,    0,    0,    0,    0,    0,    0,\n",
      "           0,    0,    0,    0,    0,    0,    0,    0,    0,    0,    0,\n",
      "           0,    0,    0,    0,    0,    0,    0,    0,    0,    0,    0,\n",
      "           0,    0,    0,    0,    0,    0,    0,    0,    0,    0,    0,\n",
      "           0,    0,    0,    0,    0,    0,    0,    0,    0,    0,    0,\n",
      "           0,    0,    0,    0,    0,    0,    0,    0,    0,    0,    0,\n",
      "           0,    0,    0,    0,    0,    0,    0,    0,    0,    0,    0,\n",
      "           0,    0,    0,    0,    0,    0,    0,    0,    0,    0,    0,\n",
      "           0,    0,    0,    0,    0]])>, <tf.Tensor: shape=(), dtype=int32, numpy=0>)\n"
     ]
    }
   ],
   "source": [
    "text_batch, label_batch = next(iter(raw_train_ds))\n",
    "first_question, first_label = text_batch[1], label_batch[1]\n",
    "print(\"Question\", first_question)\n",
    "print(\"Label\", raw_train_ds.class_names[first_label])\n",
    "print(\"Vectorized review\", vectorize_text(first_question, first_label))"
   ]
  },
  {
   "cell_type": "code",
   "execution_count": 73,
   "metadata": {},
   "outputs": [
    {
     "name": "stdout",
     "output_type": "stream",
     "text": [
      "795 --->  available\n",
      " 23 --->  my\n",
      "Vocabulary size: 5000\n"
     ]
    }
   ],
   "source": [
    "print(\"795 ---> \", vectorize_layer.get_vocabulary()[795])\n",
    "print(\" 23 ---> \", vectorize_layer.get_vocabulary()[23])\n",
    "print('Vocabulary size: {}'.format(len(vectorize_layer.get_vocabulary())))"
   ]
  },
  {
   "cell_type": "code",
   "execution_count": 74,
   "metadata": {},
   "outputs": [],
   "source": [
    "train_ds = raw_train_ds.map(vectorize_text)\n",
    "val_ds = raw_val_ds.map(vectorize_text)\n",
    "test_ds = raw_test_ds.map(vectorize_text)"
   ]
  },
  {
   "cell_type": "markdown",
   "metadata": {},
   "source": [
    "## Configure the dataset for performance"
   ]
  },
  {
   "cell_type": "code",
   "execution_count": 75,
   "metadata": {},
   "outputs": [],
   "source": [
    "AUTOTUNE = tf.data.experimental.AUTOTUNE\n",
    "\n",
    "train_ds = train_ds.cache().prefetch(buffer_size=AUTOTUNE)\n",
    "val_ds = val_ds.cache().prefetch(buffer_size=AUTOTUNE)\n",
    "test_ds = test_ds.cache().prefetch(buffer_size=AUTOTUNE)"
   ]
  },
  {
   "cell_type": "markdown",
   "metadata": {},
   "source": [
    "## Build the model"
   ]
  },
  {
   "cell_type": "code",
   "execution_count": 76,
   "metadata": {},
   "outputs": [],
   "source": [
    "embedding_dim = 128"
   ]
  },
  {
   "cell_type": "code",
   "execution_count": 77,
   "metadata": {},
   "outputs": [
    {
     "name": "stdout",
     "output_type": "stream",
     "text": [
      "Model: \"sequential_4\"\n",
      "_________________________________________________________________\n",
      "Layer (type)                 Output Shape              Param #   \n",
      "=================================================================\n",
      "embedding_2 (Embedding)      (None, None, 128)         640128    \n",
      "_________________________________________________________________\n",
      "dropout_4 (Dropout)          (None, None, 128)         0         \n",
      "_________________________________________________________________\n",
      "global_average_pooling1d_2 ( (None, 128)               0         \n",
      "_________________________________________________________________\n",
      "dropout_5 (Dropout)          (None, 128)               0         \n",
      "_________________________________________________________________\n",
      "dense_2 (Dense)              (None, 4)                 516       \n",
      "=================================================================\n",
      "Total params: 640,644\n",
      "Trainable params: 640,644\n",
      "Non-trainable params: 0\n",
      "_________________________________________________________________\n"
     ]
    }
   ],
   "source": [
    "model = tf.keras.Sequential([\n",
    "    layers.Embedding(max_features + 1, embedding_dim),\n",
    "    layers.Dropout(0.2),\n",
    "    layers.GlobalAveragePooling1D(),\n",
    "    layers.Dropout(0.2),\n",
    "    layers.Dense(4)])\n",
    "\n",
    "model.summary()"
   ]
  },
  {
   "cell_type": "code",
   "execution_count": 78,
   "metadata": {},
   "outputs": [],
   "source": [
    "model.compile(loss=losses.SparseCategoricalCrossentropy(from_logits=True),\n",
    "             optimizer='adam',\n",
    "             metrics=tf.metrics.BinaryAccuracy(threshold=0.0))"
   ]
  },
  {
   "cell_type": "markdown",
   "metadata": {},
   "source": [
    "## Train the model "
   ]
  },
  {
   "cell_type": "code",
   "execution_count": 79,
   "metadata": {},
   "outputs": [
    {
     "name": "stdout",
     "output_type": "stream",
     "text": [
      "Epoch 1/10\n",
      "200/200 [==============================] - 7s 35ms/step - loss: 1.3735 - binary_accuracy: 0.2511 - val_loss: 1.3556 - val_binary_accuracy: 0.2466\n",
      "Epoch 2/10\n",
      "200/200 [==============================] - 6s 31ms/step - loss: 1.3197 - binary_accuracy: 0.2496 - val_loss: 1.2804 - val_binary_accuracy: 0.2475\n",
      "Epoch 3/10\n",
      "200/200 [==============================] - 7s 34ms/step - loss: 1.2208 - binary_accuracy: 0.2505 - val_loss: 1.1660 - val_binary_accuracy: 0.2497\n",
      "Epoch 4/10\n",
      "200/200 [==============================] - 7s 35ms/step - loss: 1.1017 - binary_accuracy: 0.2516 - val_loss: 1.0498 - val_binary_accuracy: 0.2492\n",
      "Epoch 5/10\n",
      "200/200 [==============================] - 6s 32ms/step - loss: 0.9882 - binary_accuracy: 0.2524 - val_loss: 0.9474 - val_binary_accuracy: 0.2484\n",
      "Epoch 6/10\n",
      "200/200 [==============================] - 6s 31ms/step - loss: 0.8905 - binary_accuracy: 0.2522 - val_loss: 0.8644 - val_binary_accuracy: 0.2511\n",
      "Epoch 7/10\n",
      "200/200 [==============================] - 6s 31ms/step - loss: 0.8098 - binary_accuracy: 0.2526 - val_loss: 0.7974 - val_binary_accuracy: 0.2520\n",
      "Epoch 8/10\n",
      "200/200 [==============================] - 7s 34ms/step - loss: 0.7434 - binary_accuracy: 0.2542 - val_loss: 0.7427 - val_binary_accuracy: 0.2509\n",
      "Epoch 9/10\n",
      "200/200 [==============================] - 6s 32ms/step - loss: 0.6885 - binary_accuracy: 0.2566 - val_loss: 0.6987 - val_binary_accuracy: 0.2505\n",
      "Epoch 10/10\n",
      "200/200 [==============================] - 6s 32ms/step - loss: 0.6434 - binary_accuracy: 0.2552 - val_loss: 0.6632 - val_binary_accuracy: 0.2520\n"
     ]
    }
   ],
   "source": [
    "epochs = 10\n",
    "history = model.fit(\n",
    "    train_ds,\n",
    "    validation_data=val_ds,\n",
    "    epochs=epochs)"
   ]
  },
  {
   "cell_type": "markdown",
   "metadata": {},
   "source": [
    "## Evaluate the model "
   ]
  },
  {
   "cell_type": "code",
   "execution_count": 80,
   "metadata": {},
   "outputs": [
    {
     "name": "stdout",
     "output_type": "stream",
     "text": [
      "250/250 [==============================] - 2s 8ms/step - loss: 0.7055 - binary_accuracy: 0.2581\n",
      "Loss:  0.7055066823959351\n",
      "Accuracy:  0.2580937445163727\n"
     ]
    }
   ],
   "source": [
    "loss, accuracy = model.evaluate(test_ds)\n",
    "\n",
    "print(\"Loss: \", loss)\n",
    "print(\"Accuracy: \", accuracy)"
   ]
  },
  {
   "cell_type": "code",
   "execution_count": 81,
   "metadata": {},
   "outputs": [
    {
     "data": {
      "text/plain": [
       "dict_keys(['loss', 'binary_accuracy', 'val_loss', 'val_binary_accuracy'])"
      ]
     },
     "execution_count": 81,
     "metadata": {},
     "output_type": "execute_result"
    }
   ],
   "source": [
    "history_dict = history.history\n",
    "history_dict.keys()"
   ]
  },
  {
   "cell_type": "code",
   "execution_count": 82,
   "metadata": {},
   "outputs": [
    {
     "data": {
      "image/png": "[encoded data removed]",
      "text/plain": [
       "<Figure size 432x288 with 1 Axes>"
      ]
     },
     "metadata": {
      "needs_background": "light"
     },
     "output_type": "display_data"
    }
   ],
   "source": [
    "acc = history_dict['binary_accuracy']\n",
    "val_acc = history_dict['val_binary_accuracy']\n",
    "loss = history_dict['loss']\n",
    "val_loss = history_dict['val_loss']\n",
    "\n",
    "epochs = range(1, len(acc) + 1)\n",
    "\n",
    "plt.plot(epochs, loss, 'bo', label='Training loss')\n",
    "plt.plot(epochs, val_loss, 'b', label='Validation loss')\n",
    "plt.title(\"Training and validation loss\")\n",
    "plt.xlabel('Epochs')\n",
    "plt.ylabel('Loss')\n",
    "plt.legend()\n",
    "\n",
    "plt.show()"
   ]
  },
  {
   "cell_type": "code",
   "execution_count": 83,
   "metadata": {},
   "outputs": [
    {
     "data": {
      "image/png": "[encoded data removed]",
      "text/plain": [
       "<Figure size 432x288 with 1 Axes>"
      ]
     },
     "metadata": {
      "needs_background": "light"
     },
     "output_type": "display_data"
    }
   ],
   "source": [
    "plt.plot(epochs, acc, 'bo', label='Training acc')\n",
    "plt.plot(epochs, val_acc, 'b', label='Validation acc')\n",
    "plt.title('Training and vaidation accuracy')\n",
    "plt.xlabel('Epochs')\n",
    "plt.ylabel('Accuracy')\n",
    "plt.legend(loc='lower right')\n",
    "\n",
    "plt.show()"
   ]
  },
  {
   "cell_type": "code",
   "execution_count": 84,
   "metadata": {},
   "outputs": [
    {
     "name": "stdout",
     "output_type": "stream",
     "text": [
      "250/250 [==============================] - 3s 11ms/step - loss: 0.9889 - accuracy: 0.7628\n",
      "0.7627500295639038\n"
     ]
    }
   ],
   "source": [
    "export_model = tf.keras.Sequential([\n",
    "    vectorize_layer,\n",
    "    model, \n",
    "    layers.Activation('sigmoid')\n",
    "])\n",
    "\n",
    "export_model.compile(\n",
    "    loss=losses.SparseCategoricalCrossentropy(from_logits=False),\n",
    "    optimizer='adam',\n",
    "    metrics=['accuracy'])\n",
    "\n",
    "loss, accuracy = export_model.evaluate(raw_test_ds)\n",
    "print(accuracy)"
   ]
  },
  {
   "cell_type": "code",
   "execution_count": 85,
   "metadata": {},
   "outputs": [
    {
     "data": {
      "text/plain": [
       "array([[0.5195084 , 0.4662421 , 0.55737877, 0.42078257],\n",
       "       [0.5398916 , 0.46352753, 0.5708885 , 0.39247692],\n",
       "       [0.54119605, 0.4675379 , 0.5045139 , 0.44596452]], dtype=float32)"
      ]
     },
     "execution_count": 85,
     "metadata": {},
     "output_type": "execute_result"
    }
   ],
   "source": [
    "examples = [\n",
    "    \"Can you help me with Python?\",\n",
    "    \"Java question need to implement constructor.\",\n",
    "    \"Does anybody know how to do delegates in C#?\"\n",
    "]\n",
    "\n",
    "export_model.predict(examples)"
   ]
  },
  {
   "cell_type": "code",
   "execution_count": null,
   "metadata": {},
   "outputs": [],
   "source": []
  }
 ],
 "metadata": {
  "kernelspec": {
   "display_name": "Python 3",
   "language": "python",
   "name": "python3"
  },
  "language_info": {
   "codemirror_mode": {
    "name": "ipython",
    "version": 3
   },
   "file_extension": ".py",
   "mimetype": "text/x-python",
   "name": "python",
   "nbconvert_exporter": "python",
   "pygments_lexer": "ipython3",
   "version": "3.8.3"
  }
 },
 "nbformat": 4,
 "nbformat_minor": 4
}
